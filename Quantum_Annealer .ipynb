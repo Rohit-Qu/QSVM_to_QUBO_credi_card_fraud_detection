{
 "cells": [
  {
   "cell_type": "code",
   "execution_count": 1,
   "id": "e6015759",
   "metadata": {},
   "outputs": [],
   "source": [
    "import os\n",
    "import pandas as pd\n",
    "import matplotlib.pyplot as plt\n",
    "from sklearn.preprocessing import LabelEncoder, StandardScaler\n",
    "from sklearn.decomposition import PCA\n",
    "from sklearn.model_selection import train_test_split\n",
    "import numpy as np\n",
    "import random\n",
    "import numpy as np\n",
    "from scipy.spatial import distance_matrix"
   ]
  },
  {
   "cell_type": "code",
   "execution_count": 2,
   "id": "bed49a7a",
   "metadata": {},
   "outputs": [],
   "source": [
    "os.chdir('R:\\TechM\\-Support-Vector-Machine-Implementation-on-D-Wave-Quantum-Annealer-main\\-Support-Vector-Machine-Implementation-on-D-Wave-Quantum-Annealer-main')"
   ]
  },
  {
   "cell_type": "code",
   "execution_count": 3,
   "id": "3a6117ba",
   "metadata": {},
   "outputs": [],
   "source": [
    "random.seed(34)"
   ]
  },
  {
   "cell_type": "code",
   "execution_count": 4,
   "id": "e8fe9354",
   "metadata": {},
   "outputs": [],
   "source": [
    "df = pd.read_csv('data/1056lab-credit-card-fraud-detection/train.csv')\n",
    "df = df.drop(['ID', 'Time'],axis=1)\n",
    "df = df.sample(frac=1)"
   ]
  },
  {
   "cell_type": "code",
   "execution_count": 5,
   "id": "0441a4ff",
   "metadata": {},
   "outputs": [],
   "source": [
    "df0 = df[df['Class'] == 0]\n",
    "df1 = df[df['Class'] == 1]"
   ]
  },
  {
   "cell_type": "code",
   "execution_count": 6,
   "id": "44f2d31a",
   "metadata": {},
   "outputs": [],
   "source": [
    "df0 = df0.iloc[0:700,:]\n",
    "df1 = df1.iloc[0:300,:]"
   ]
  },
  {
   "cell_type": "code",
   "execution_count": 7,
   "id": "26ba4886",
   "metadata": {},
   "outputs": [],
   "source": [
    "df_new = df0.append(df1)\n",
    "df_new = df_new.sample(frac=1)"
   ]
  },
  {
   "cell_type": "code",
   "execution_count": 8,
   "id": "3e41ab27",
   "metadata": {},
   "outputs": [
    {
     "data": {
      "text/plain": [
       "0    700\n",
       "1    300\n",
       "Name: Class, dtype: int64"
      ]
     },
     "execution_count": 8,
     "metadata": {},
     "output_type": "execute_result"
    }
   ],
   "source": [
    "df_new['Class'].value_counts()"
   ]
  },
  {
   "cell_type": "code",
   "execution_count": 9,
   "id": "4d2db24c",
   "metadata": {},
   "outputs": [
    {
     "data": {
      "text/plain": [
       "0    0.7\n",
       "1    0.3\n",
       "Name: Class, dtype: float64"
      ]
     },
     "execution_count": 9,
     "metadata": {},
     "output_type": "execute_result"
    }
   ],
   "source": [
    "df_new['Class'].value_counts(1)"
   ]
  },
  {
   "cell_type": "code",
   "execution_count": 10,
   "id": "72394973",
   "metadata": {},
   "outputs": [],
   "source": [
    "encoder = LabelEncoder()\n",
    "\n",
    "# Now apply the transformation to all the columns:\n",
    "for col in df_new.columns:\n",
    "    df_new[col] = encoder.fit_transform(df_new[col])\n",
    "X_features = df_new.iloc[:,0:29]\n",
    "y_label = df_new.iloc[:,29:30]"
   ]
  },
  {
   "cell_type": "code",
   "execution_count": 11,
   "id": "571741b3",
   "metadata": {},
   "outputs": [],
   "source": [
    "# Scale the features\n",
    "scaler = StandardScaler()\n",
    "X_features = scaler.fit_transform(X_features)"
   ]
  },
  {
   "cell_type": "code",
   "execution_count": 12,
   "id": "fed90596",
   "metadata": {},
   "outputs": [],
   "source": [
    "# Visualize\n",
    "pca = PCA()\n",
    "pca.fit_transform(X_features)\n",
    "pca_variance = pca.explained_variance_\n",
    "pca2 = PCA(n_components=4)\n",
    "pca2.fit(X_features)\n",
    "x_3d = pca2.transform(X_features)\n"
   ]
  },
  {
   "cell_type": "code",
   "execution_count": 13,
   "id": "11b9f8a4",
   "metadata": {},
   "outputs": [
    {
     "data": {
      "text/plain": [
       "array([[-1.73137565, -2.12554341,  0.0586721 ,  0.87777902],\n",
       "       [ 5.04165244, -1.73325613,  0.36754291,  1.93020191],\n",
       "       [ 5.83853491, -0.4155247 ,  0.31821416, -1.10996772],\n",
       "       ...,\n",
       "       [-2.3445875 ,  0.48688472,  0.33329514, -0.11526489],\n",
       "       [-1.72747433, -0.0608376 , -0.48712811,  0.82856532],\n",
       "       [-2.38585526, -1.55455134,  0.09984331,  1.82609707]])"
      ]
     },
     "execution_count": 13,
     "metadata": {},
     "output_type": "execute_result"
    }
   ],
   "source": [
    "x_3d"
   ]
  },
  {
   "cell_type": "code",
   "execution_count": 14,
   "id": "215b11a3",
   "metadata": {},
   "outputs": [],
   "source": [
    "training_data = np.append(x_3d, y_label, axis=1)"
   ]
  },
  {
   "cell_type": "code",
   "execution_count": 15,
   "id": "0bc9e210",
   "metadata": {},
   "outputs": [
    {
     "data": {
      "text/plain": [
       "(1000, 5)"
      ]
     },
     "execution_count": 15,
     "metadata": {},
     "output_type": "execute_result"
    }
   ],
   "source": [
    "training_data.shape"
   ]
  },
  {
   "cell_type": "code",
   "execution_count": 16,
   "id": "5a91743a",
   "metadata": {},
   "outputs": [],
   "source": [
    "label = training_data[:,4]"
   ]
  },
  {
   "cell_type": "code",
   "execution_count": 17,
   "id": "4812a258",
   "metadata": {},
   "outputs": [],
   "source": [
    "import neal\n",
    "import math\n",
    "from dwave.system import LeapHybridSampler\n",
    "import numpy as np\n",
    "from itertools import product\n",
    "import matplotlib.pyplot as plt\n",
    "from dwave.system.composites import EmbeddingComposite\n",
    "from dwave.system.samplers import DWaveSampler\n",
    "import time"
   ]
  },
  {
   "cell_type": "code",
   "execution_count": 18,
   "id": "58face76",
   "metadata": {},
   "outputs": [],
   "source": [
    "TYPE = 'SA'\n",
    "\n",
    "# Select the solver\n",
    "if(TYPE == 'HQPU'):\n",
    "    sampler = LeapHybridSampler()\n",
    "if(TYPE == 'SA'):\n",
    "    sampler = neal.SimulatedAnnealingSampler()\n",
    "if(TYPE == 'QPU'):\n",
    "    sampler = EmbeddingComposite(DWaveSampler())\n",
    "\n",
    "\n",
    "N = 950\n",
    "validation_pts = 50\n",
    "xi = 0.001\n",
    "\n",
    "\n",
    "def kernel(x, y, gamma):\n",
    "    if gamma == -1:\n",
    "        k = np.dot(x, y)\n",
    "    elif gamma >= 0:\n",
    "        k = np.exp(-gamma*(np.linalg.norm(x-y, ord=2)))\n",
    "    return k\n",
    "\n",
    "def delta(i, j):\n",
    "    if i == j:\n",
    "        return 1\n",
    "    else:\n",
    "        return 0\n",
    "\n",
    "def predict_class(x_test, alpha, b):\n",
    "    N = len(alpha)\n",
    "    f = sum([alpha[n]*t[n]*kernel(data[n], x_test, gamma)\n",
    "                for n in range(N)]) + b\n",
    "    return f\n",
    "\n",
    "def train_SVM(x, K, t):\n",
    "\n",
    "    Q_tilde = np.zeros((K*N, K*N))\n",
    "    for n in range(N):\n",
    "        for m in range(N):\n",
    "            for k in range(K):\n",
    "                for j in range(K):\n",
    "                    Q_tilde[(K*n+k, K*m+j)] = 0.5*(B**(k+j))*t[n]*t[m] * \\\n",
    "                        (kernel(x[n], x[m], gamma)+xi) - \\\n",
    "                        (delta(n, m)*delta(k, j)*(B**k))\n",
    "\n",
    "    Q = np.zeros((K*N, K*N))\n",
    "    for j in range(K*N):\n",
    "        Q[(j, j)] = Q_tilde[(j, j)]\n",
    "        for i in range(K*N):\n",
    "            if i < j:\n",
    "                Q[(i, j)] = Q_tilde[(i, j)] + Q_tilde[(j, i)]\n",
    "\n",
    "    size_of_q = Q.shape[0]\n",
    "    qubo = {(i, j): Q[i, j]\n",
    "            for i, j in product(range(size_of_q), range(size_of_q))}\n",
    "\n",
    "    now = time.time()\n",
    "    if(TYPE == 'HQPU'):\n",
    "        response = sampler.sample_qubo(qubo)\n",
    "    if(TYPE == 'SA'):\n",
    "        response = sampler.sample_qubo(qubo, num_reads=100)\n",
    "    if(TYPE == 'QPU'):\n",
    "        response = sampler.sample_qubo(qubo, num_reads=100)\n",
    "\n",
    "    print((time.time() - now)/60)\n",
    "\n",
    "    a = response.first.sample\n",
    "    print(response.first.energy)\n",
    "\n",
    "    alpha = {}\n",
    "    for n in range(N):\n",
    "        alpha[n] = sum([(B**k)*a[K*n+k] for k in range(K)])\n",
    "\n",
    "    b = sum([alpha[n]*(C-alpha[n])*(t[n]-(sum([alpha[m]*t[m]*kernel(x[m], x[n], gamma)\n",
    "                                                for m in range(N)]))) for n in range(N)])/sum([alpha[n]*(C-alpha[n]) for n in range(N)])\n",
    "\n",
    "    return alpha, b\n",
    "\n"
   ]
  },
  {
   "cell_type": "code",
   "execution_count": 19,
   "id": "a7751493",
   "metadata": {},
   "outputs": [],
   "source": [
    "# ----- Predict class of a data point -----\n",
    "\n",
    "# ----- Set up parameters -----\n",
    "B = 2  # base used for encoding the real variables\n",
    "K = 2  # number of binary variables used for encoding\n",
    "C = 3  # regularization parameter\n",
    "\n",
    "# constraint penalty\n",
    "gamma = 16  # kernel hyperparameter\n",
    "\n",
    "\n",
    "\n",
    "for i in range(N+validation_pts):\n",
    "    if(training_data[i][-1] == 0):\n",
    "        training_data[i][-1] = -1\n",
    "\n",
    "data = training_data[:N+validation_pts, :2]\n",
    "t = training_data[:N + validation_pts, -1]\n",
    "\n",
    "x_min, x_max = 1000, 0\n",
    "y_min, y_max = 1000, 0\n",
    "# rescalling data\n",
    "for i in range(N+validation_pts):\n",
    "    x_min = min(data[i][0], x_min)\n",
    "    x_max = max(data[i][0], x_max)\n",
    "    y_min = min(data[i][1], y_min)\n",
    "    y_max = max(data[i][1], y_max)\n",
    "\n",
    "for i in range(N+validation_pts):\n",
    "    data[i][0] = (data[i][0] - x_min)/(x_max - x_min)\n",
    "    data[i][1] = (data[i][1] - y_min)/(y_max - y_min)\n",
    "\n",
    "\n"
   ]
  },
  {
   "cell_type": "code",
   "execution_count": 20,
   "id": "24d5af1c",
   "metadata": {},
   "outputs": [
    {
     "name": "stdout",
     "output_type": "stream",
     "text": [
      "0.781008243560791\n",
      "-208.9008073359728\n"
     ]
    }
   ],
   "source": [
    "alpha, b = train_SVM(data, K, t)"
   ]
  },
  {
   "cell_type": "code",
   "execution_count": 21,
   "id": "aff948c0",
   "metadata": {},
   "outputs": [
    {
     "data": {
      "image/png": "[encoded data removed]",
      "text/plain": [
       "<Figure size 432x288 with 2 Axes>"
      ]
     },
     "metadata": {
      "needs_background": "light"
     },
     "output_type": "display_data"
    }
   ],
   "source": [
    "# Plot results:\n",
    "plot_fig = 1\n",
    "\n",
    "if plot_fig:\n",
    "    plt.figure()\n",
    "    cm = plt.cm.RdBu\n",
    "\n",
    "    xx, yy = np.meshgrid(np.linspace(0.0, 1.0, 80),\n",
    "                            np.linspace(0.0, 1.0, 80))\n",
    "    Z = []\n",
    "    for row in range(len(xx)):\n",
    "        Z_row = []\n",
    "        for col in range(len(xx[row])):\n",
    "            target = np.array([xx[row][col], yy[row][col]])\n",
    "            Z_row.append(predict_class(target, alpha, b))\n",
    "        Z.append(Z_row)\n",
    "\n",
    "    cnt = plt.contourf(xx, yy, Z, levels=np.arange(-1, 1.1,\n",
    "                                                    0.1), cmap=cm, alpha=0.8, extend=\"both\")\n",
    "\n",
    "    plt.contour(xx, yy, Z, levels=[0.0], colors=(\n",
    "        \"black\",), linestyles=(\"--\",), linewidths=(0.8,))\n",
    "    plt.colorbar(cnt, ticks=[-1, 0, 1])\n",
    "\n",
    "    red_sv = []\n",
    "    blue_sv = []\n",
    "    red_pts = []\n",
    "    blue_pts = []\n",
    "\n",
    "    for i in range(N):\n",
    "        if(alpha[i]):\n",
    "            if(t[i] == 1):\n",
    "                blue_sv.append(data[i, :2])\n",
    "            else:\n",
    "                red_sv.append(data[i, :2])\n",
    "\n",
    "        else:\n",
    "            if(t[i] == 1):\n",
    "                blue_pts.append(data[i, :2])\n",
    "            else:\n",
    "                red_pts.append(data[i, :2])\n",
    "\n",
    "    plt.scatter([el[0] for el in blue_sv],\n",
    "                [el[1] for el in blue_sv], color='b', marker='^', edgecolors='k', label=\"Type 1 SV\")\n",
    "\n",
    "    plt.scatter([el[0] for el in red_sv],\n",
    "                [el[1] for el in red_sv], color='r', marker='^', edgecolors='k', label=\"Type -1 SV\")\n",
    "\n",
    "    plt.scatter([el[0] for el in blue_pts],\n",
    "                [el[1] for el in blue_pts], color='b', marker='o', edgecolors='k', label=\"Type 1 Train\")\n",
    "\n",
    "    plt.scatter([el[0] for el in red_pts],\n",
    "                [el[1] for el in red_pts], color='r', marker='o', edgecolors='k', label=\"Type -1 Train\")"
   ]
  },
  {
   "cell_type": "code",
   "execution_count": 22,
   "id": "2c3a1963",
   "metadata": {},
   "outputs": [
    {
     "name": "stdout",
     "output_type": "stream",
     "text": [
      "f1_score = 0.967741935483871 accuracy = 0.98 precision = 0.9375 recall = 1.0\n"
     ]
    }
   ],
   "source": [
    "tp, fp, tn, fn = 0, 0, 0, 0\n",
    "for i in range(N, N+validation_pts):\n",
    "    cls = predict_class(data[i], alpha, b)\n",
    "    y_i = t[i]\n",
    "    if(y_i == 1):\n",
    "        if(cls > 0):\n",
    "           \n",
    "            tp += 1\n",
    "        else:\n",
    "\n",
    "            fp += 1\n",
    "    else:\n",
    "        if(cls < 0):\n",
    "\n",
    "            tn += 1\n",
    "        else:\n",
    "            fn += 1\n",
    "\n",
    "# calculate KPI's\n",
    "\n",
    "precision = tp / (tp + fp)\n",
    "recall = tp / (tp + fn)\n",
    "f_score = tp/(tp + 1/2*(fp+fn))\n",
    "accuracy = (tp + tn)/(tp+tn+fp+fn)\n",
    "\n",
    "print(\"f1_score = {} accuracy = {} precision = {} recall = {}\".format(f_score, accuracy,precision,recall))\n",
    "\n",
    "\n",
    "\n"
   ]
  },
  {
   "cell_type": "code",
   "execution_count": null,
   "id": "8ace4482",
   "metadata": {},
   "outputs": [],
   "source": []
  }
 ],
 "metadata": {
  "kernelspec": {
   "display_name": "Python 3",
   "language": "python",
   "name": "python3"
  },
  "language_info": {
   "codemirror_mode": {
    "name": "ipython",
    "version": 3
   },
   "file_extension": ".py",
   "mimetype": "text/x-python",
   "name": "python",
   "nbconvert_exporter": "python",
   "pygments_lexer": "ipython3",
   "version": "3.8.8"
  }
 },
 "nbformat": 4,
 "nbformat_minor": 5
}
